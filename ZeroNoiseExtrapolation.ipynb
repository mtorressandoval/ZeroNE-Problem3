{
 "cells": [
  {
   "cell_type": "code",
   "execution_count": 1,
   "metadata": {},
   "outputs": [],
   "source": [
    "from qiskit import QuantumCircuit\n",
    "from qiskit_aer.primitives import Estimator\n",
    "from qiskit.quantum_info import SparsePauliOp\n",
    "import numpy as np \n",
    "from ZeroNE import ZeroNE  \n",
    "import matplotlib.pyplot as plt"
   ]
  },
  {
   "cell_type": "code",
   "execution_count": 2,
   "metadata": {},
   "outputs": [
    {
     "data": {
      "text/plain": [
       "<qiskit.circuit.instructionset.InstructionSet at 0x1cb632fd570>"
      ]
     },
     "execution_count": 2,
     "metadata": {},
     "output_type": "execute_result"
    }
   ],
   "source": [
    "#Circuits\n",
    "qc1 = QuantumCircuit(2)\n",
    "qc1.rx(3*np.pi/4, 0)  \n",
    "qc1.ry(5*np.pi/6, 1) \n",
    "\n",
    "\n",
    "\n",
    "qc2 = QuantumCircuit(3)\n",
    "qc2.rx(np.pi/5, 1)  \n",
    "qc2.ry(np.pi/2, 2)  \n",
    "qc2.rz(np.pi/3, 0)  \n",
    "\n",
    "qc3=QuantumCircuit(3)\n",
    "qc3.rz(np.pi/2, 1)  \n",
    "qc3.rx(np.pi/7, 2)  \n",
    "qc3.ry(3*np.pi/2, 0) \n"
   ]
  },
  {
   "cell_type": "code",
   "execution_count": 3,
   "metadata": {},
   "outputs": [],
   "source": [
    "#Observables\n",
    "H1=SparsePauliOp.from_list([(\"IX\", -3.4), (\"ZI\", -4.5), (\"XX\", -2.3)])\n",
    "H2=SparsePauliOp.from_list([(\"IXI\", 2.3), (\"IZI\",4.7), (\"XIX\", 3.8)])\n",
    "H3=SparsePauliOp.from_list([(\"YIX\", 2.3), (\"IZY\",4.7), (\"ZXI\", 3.8)])\n"
   ]
  },
  {
   "cell_type": "code",
   "execution_count": 4,
   "metadata": {},
   "outputs": [],
   "source": [
    "from qiskit_aer.noise import (NoiseModel, depolarizing_error)\n",
    "\n",
    "# Noise model\n",
    "noise_model = NoiseModel()\n",
    "\n",
    "# Add depolarizing error to all single qubit over the gates rx, ry, rz\n",
    "error = depolarizing_error(0.3, 1)\n",
    "noise_model.add_all_qubit_quantum_error(error,['rx', 'ry', 'rz'])\n",
    "shots = 90000\n",
    "#Simulators\n",
    "simulator_ideal = Estimator( backend_options={'shots':shots,},\n",
    "                                transpile_options={'optimization_level':0} ) \n",
    "simulator_noisy = Estimator( backend_options={'noise_model':noise_model, \n",
    "                                                'shots':shots,},\n",
    "                                transpile_options={'optimization_level':0} ) "
   ]
  },
  {
   "cell_type": "code",
   "execution_count": 8,
   "metadata": {},
   "outputs": [
    {
     "name": "stdout",
     "output_type": "stream",
     "text": [
      "For the circuit 1\n",
      "The ideal expectation value is <H1> = 3.905991111111111\n",
      "The noisy expectation value is <H1> = 2.752424444444445\n",
      "For the circuit 2\n",
      "The ideal expectation value is <H2> = 3.7978533333333333\n",
      "The noisy expectation value is <H2> = 2.658237777777778\n",
      "For the circuit 3\n",
      "The ideal expectation value is <H3> = 0.97822\n",
      "The noisy expectation value is <H3> = 0.08362444444444443\n"
     ]
    }
   ],
   "source": [
    "circuits=[qc1,qc2,qc3]\n",
    "observables = [H1 ,H2,H3]\n",
    "#Here we evaluate the expectation values of the circuit [qc1,qc2,qc3] with respect\n",
    "#the observables [H1,H2,H3] using the ideal and noisy simulators\n",
    "for j in range(len(circuits)):\n",
    "    print(\"For the circuit \" + str(j + 1))\n",
    "    qc = circuits[j]\n",
    "    H = observables[j]\n",
    "    \n",
    "    # Ideal Simulator\n",
    "    result_ideal = simulator_ideal.run(qc, H).result().values[0]\n",
    "    print(f\"The ideal expectation value is <H{j + 1}> = {result_ideal}\")\n",
    "    \n",
    "    # Noisy Simulator\n",
    "    result_noisy = simulator_noisy.run(qc, H).result().values[0]\n",
    "    print(f\"The noisy expectation value is <H{j + 1}> = {result_noisy}\")"
   ]
  },
  {
   "cell_type": "code",
   "execution_count": 9,
   "metadata": {},
   "outputs": [],
   "source": [
    "from mitiq import zne\n",
    "\n",
    "scale_factors0 = [1., 1.5, 2.5, 3.,3.5,5.]\n",
    "def mitiqzne(qc,H,scale_factors0):\n",
    "        \n",
    "    folded_circuits = [\n",
    "                    zne.scaling.fold_gates_at_random(qc, scale)\n",
    "                    for scale in scale_factors0\n",
    "                    ]\n",
    "    expectation_values = [ simulator_noisy.run( circuit_fold, H ).result().values for circuit_fold in folded_circuits ]\n",
    "    zero_noise_value = zne.LinearFactory.extrapolate(scale_factors0, \n",
    "                                                expectation_values)\n",
    "    print(zero_noise_value)\n"
   ]
  },
  {
   "cell_type": "code",
   "execution_count": 24,
   "metadata": {},
   "outputs": [
    {
     "name": "stdout",
     "output_type": "stream",
     "text": [
      "[3.87496711]\n"
     ]
    }
   ],
   "source": [
    "mitiqzne(qc1,H1,scale_factors0)"
   ]
  },
  {
   "cell_type": "code",
   "execution_count": 6,
   "metadata": {},
   "outputs": [],
   "source": [
    "scale_factors0=[1., 1.5, 2.5, 3.,3.5,5.]\n",
    "zeroNE_calculator=ZeroNE()\n"
   ]
  },
  {
   "cell_type": "code",
   "execution_count": 11,
   "metadata": {},
   "outputs": [
    {
     "name": "stdout",
     "output_type": "stream",
     "text": [
      "For the circuit 1 and operator H1\n",
      "Relative difference between ideal and LinearZNE =0.0846685207868463\n",
      "Relative difference between ideal and QuadraticZNE =1.111693348113564\n",
      "Relative difference between ideal and ExponentialZNE =0.1092441266566583\n",
      "For the circuit 2 and operator H2\n",
      "Relative difference between ideal and LinearZNE =0.10077793100505013\n",
      "Relative difference between ideal and QuadraticZNE =1.112677389465907\n",
      "Relative difference between ideal and ExponentialZNE =0.124699832788072\n",
      "For the circuit 3 and operator H3\n",
      "Relative difference between ideal and LinearZNE =0.8089516929501676\n",
      "Relative difference between ideal and QuadraticZNE =0.9953714272910278\n",
      "Relative difference between ideal and ExponentialZNE =0.8546482325551591\n"
     ]
    }
   ],
   "source": [
    "for j in range(len(circuits)):\n",
    "    print(\"For the circuit \" + str(j + 1)+\" and operator H\"+str(j+1))\n",
    "    qc = circuits[j]\n",
    "    H = observables[j]\n",
    "    \n",
    "    # Difference between the ideal and the ZNE values \n",
    "    IdealValue=simulator_ideal.run(qc, H).result().values[0]\n",
    "    LinearZNEValue=zeroNE_calculator.ZeroNEPolynomial(\n",
    "                          qc,\n",
    "                          scale_factors0,\n",
    "                          H,\n",
    "                          simulator_noisy,degree=1)\n",
    "    QuadraticZNEValue=zeroNE_calculator.ZeroNEPolynomial(\n",
    "                          qc,\n",
    "                          scale_factors0,\n",
    "                          H,\n",
    "                          simulator_noisy,degree=2)\n",
    "    ExponentialZNEValue=zeroNE_calculator.ZeroNEExponential(\n",
    "                          qc,\n",
    "                          scale_factors0,\n",
    "                          H,\n",
    "                          simulator_noisy)\n",
    "    DifferenceLinear = np.abs((IdealValue-LinearZNEValue)/IdealValue)\n",
    "    \n",
    "    print(\"Relative difference between ideal and LinearZNE =\" +str(DifferenceLinear))\n",
    "    DifferenceQuadratic = np.abs((IdealValue-QuadraticZNEValue)/(IdealValue))\n",
    "    print(\"Relative difference between ideal and QuadraticZNE =\"+str(DifferenceQuadratic))\n",
    "    DifferenceExponential = np.abs((IdealValue-ExponentialZNEValue)/(IdealValue))\n",
    "    print(\"Relative difference between ideal and ExponentialZNE =\" +str(DifferenceExponential))"
   ]
  },
  {
   "cell_type": "code",
   "execution_count": 13,
   "metadata": {},
   "outputs": [
    {
     "data": {
      "image/png": "[encoded data removed]",
      "text/plain": [
       "<Figure size 640x480 with 1 Axes>"
      ]
     },
     "metadata": {},
     "output_type": "display_data"
    }
   ],
   "source": [
    "import matplotlib.pyplot as plt\n",
    "from scipy.optimize import curve_fit\n",
    "\n",
    "# Data\n",
    "x = [1., 1.5, 2.5, 3., 3.5, 5.]\n",
    "y = zeroNE_calculator.ExpectationValues(qc1, x, H1, simulator_noisy)\n",
    "\n",
    "# Linear Interpolation\n",
    "coefficients1 = np.polyfit(x, y, 1)\n",
    "polynomial1 = np.poly1d(coefficients1)\n",
    "zne_value_linear = polynomial1(0)\n",
    "x_interpolated = np.linspace(0, 5, 100)\n",
    "y_interpolated_linear = polynomial1(x_interpolated)\n",
    "\n",
    "# Quadratic Interpolation\n",
    "coefficients2 = np.polyfit(x, y, 2)\n",
    "polynomial2 = np.poly1d(coefficients2)\n",
    "zne_value_quadratic = polynomial2(0)\n",
    "y_interpolated_quadratic = polynomial2(x_interpolated)\n",
    "\n",
    "# Exponential Interpolation\n",
    "def exponential_func(x, a, b, c):\n",
    "    return a * np.exp(b * x) + c\n",
    "\n",
    "popt, pcov = curve_fit(exponential_func, x, y)\n",
    "zne_value_exponential = exponential_func(0, *popt)\n",
    "y_interpolated_exponential = exponential_func(x_interpolated, *popt)\n",
    "\n",
    "# Plot\n",
    "plt.plot(x_interpolated, y_interpolated_linear, label='Linear Interpolation')\n",
    "#plt.plot(x_interpolated, y_interpolated_quadratic, label='Quadratic Interpolation')\n",
    "#plt.plot(x_interpolated, y_interpolated_exponential, label='Exponential Interpolation')\n",
    "plt.plot(0, zne_value_linear, 'o', label='ZNE Linear')\n",
    "#plt.plot(0, zne_value_quadratic, 'o', label='ZNE Quadratic')\n",
    "#plt.plot(0, zne_value_exponential, 'o', label='ZNE Exponential')\n",
    "plt.plot(0, simulator_ideal.run(qc1, H1).result().values[0], 'o', label='Ideal Simulator at x=0')\n",
    "plt.plot(0, simulator_noisy.run(qc1, H1).result().values[0], 'o', label='Noisy Simulator at x=0')\n",
    "plt.plot(x, y, 'o', label='Expectation Values')\n",
    "plt.title('H1')\n",
    "plt.legend()\n",
    "plt.show()"
   ]
  },
  {
   "cell_type": "code",
   "execution_count": null,
   "metadata": {},
   "outputs": [],
   "source": []
  }
 ],
 "metadata": {
  "kernelspec": {
   "display_name": "mati",
   "language": "python",
   "name": "python3"
  },
  "language_info": {
   "codemirror_mode": {
    "name": "ipython",
    "version": 3
   },
   "file_extension": ".py",
   "mimetype": "text/x-python",
   "name": "python",
   "nbconvert_exporter": "python",
   "pygments_lexer": "ipython3",
   "version": "3.11.8"
  }
 },
 "nbformat": 4,
 "nbformat_minor": 2
}
